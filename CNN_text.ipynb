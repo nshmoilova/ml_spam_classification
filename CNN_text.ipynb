{
 "cells": [
  {
   "cell_type": "code",
   "execution_count": 1,
   "metadata": {},
   "outputs": [
    {
     "name": "stderr",
     "output_type": "stream",
     "text": [
      "Using TensorFlow backend.\n"
     ]
    }
   ],
   "source": [
    "import pandas as pd\n",
    "import numpy as np\n",
    "import matplotlib.pyplot as plt\n",
    "\n",
    "from keras.preprocessing.text import Tokenizer\n",
    "from keras.preprocessing import sequence\n",
    "from keras.utils import to_categorical\n",
    "from keras.layers import Dense, Dropout, Input, Embedding, Flatten, Activation\n",
    "from keras.layers import Conv1D, MaxPooling1D, GlobalMaxPooling1D, MaxPool1D\n",
    "from keras.models import Model, Sequential\n",
    "\n",
    "from sklearn.model_selection import train_test_split\n",
    "from sklearn.preprocessing import LabelEncoder"
   ]
  },
  {
   "cell_type": "code",
   "execution_count": 2,
   "metadata": {},
   "outputs": [],
   "source": [
    "# creates a model that categorizes text as 'spam' or 'non-spam'\n",
    "# Training dataset: 3565 samples, validation: 892\n",
    "# achieves 0.9846 validation acuuracy with 0.0712 validation loss on the second epoch, after which it is showing signs of overfitting\n",
    "# LSTM vs CNN on the same language task\n",
    "#         ACCURACY | LOSS\n",
    "#    LSTM    0.9817| 0.0548 (2nd epoch)\n",
    "# .  CNN     0.9846| 0.0712 (2nd epoch)\n",
    "\n",
    "# what will happen if CNN used for language tasks?\n",
    "# Instead of image pixels, the input is sentences represented as a matrix. Each row of the matrix corresponds to one-word vector.\n",
    "# As opposed to RNN, Conv1D feature detector will slide vertically across the data for the convolution"
   ]
  },
  {
   "cell_type": "code",
   "execution_count": 3,
   "metadata": {},
   "outputs": [],
   "source": [
    "EPOCHS = 10"
   ]
  },
  {
   "cell_type": "code",
   "execution_count": 4,
   "metadata": {},
   "outputs": [
    {
     "data": {
      "text/html": [
       "<div>\n",
       "<style scoped>\n",
       "    .dataframe tbody tr th:only-of-type {\n",
       "        vertical-align: middle;\n",
       "    }\n",
       "\n",
       "    .dataframe tbody tr th {\n",
       "        vertical-align: top;\n",
       "    }\n",
       "\n",
       "    .dataframe thead th {\n",
       "        text-align: right;\n",
       "    }\n",
       "</style>\n",
       "<table border=\"1\" class=\"dataframe\">\n",
       "  <thead>\n",
       "    <tr style=\"text-align: right;\">\n",
       "      <th></th>\n",
       "      <th>v1</th>\n",
       "      <th>v2</th>\n",
       "    </tr>\n",
       "  </thead>\n",
       "  <tbody>\n",
       "    <tr>\n",
       "      <th>0</th>\n",
       "      <td>ham</td>\n",
       "      <td>Go until jurong point, crazy.. Available only ...</td>\n",
       "    </tr>\n",
       "    <tr>\n",
       "      <th>1</th>\n",
       "      <td>ham</td>\n",
       "      <td>Ok lar... Joking wif u oni...</td>\n",
       "    </tr>\n",
       "    <tr>\n",
       "      <th>2</th>\n",
       "      <td>spam</td>\n",
       "      <td>Free entry in 2 a wkly comp to win FA Cup fina...</td>\n",
       "    </tr>\n",
       "    <tr>\n",
       "      <th>3</th>\n",
       "      <td>ham</td>\n",
       "      <td>U dun say so early hor... U c already then say...</td>\n",
       "    </tr>\n",
       "    <tr>\n",
       "      <th>4</th>\n",
       "      <td>ham</td>\n",
       "      <td>Nah I don't think he goes to usf, he lives aro...</td>\n",
       "    </tr>\n",
       "  </tbody>\n",
       "</table>\n",
       "</div>"
      ],
      "text/plain": [
       "     v1                                                 v2\n",
       "0   ham  Go until jurong point, crazy.. Available only ...\n",
       "1   ham                      Ok lar... Joking wif u oni...\n",
       "2  spam  Free entry in 2 a wkly comp to win FA Cup fina...\n",
       "3   ham  U dun say so early hor... U c already then say...\n",
       "4   ham  Nah I don't think he goes to usf, he lives aro..."
      ]
     },
     "execution_count": 4,
     "metadata": {},
     "output_type": "execute_result"
    }
   ],
   "source": [
    "# READ SPAM DATA\n",
    "data = pd.read_csv('data/text/spam.csv',delimiter=',',encoding='latin-1', usecols=['v1', 'v2'])\n",
    "data.head()"
   ]
  },
  {
   "cell_type": "code",
   "execution_count": 5,
   "metadata": {},
   "outputs": [],
   "source": [
    "text = data['v2'].values\n",
    "labels = [1 if x == \"spam\" else 0 for x in data['v1'].values]"
   ]
  },
  {
   "cell_type": "code",
   "execution_count": 6,
   "metadata": {},
   "outputs": [
    {
     "name": "stdout",
     "output_type": "stream",
     "text": [
      "Found 8920 unique tokens\n"
     ]
    }
   ],
   "source": [
    "#CREATE TRAINING AND TEST DATASETS\n",
    "MAX_WORDS_IN_SEQ = 1000\n",
    "EMBED_DIM = 100\n",
    "\n",
    "tokenizer = Tokenizer()\n",
    "tokenizer.fit_on_texts(text)\n",
    "sequences = tokenizer.texts_to_sequences(text)\n",
    "word2index = tokenizer.word_index\n",
    "\n",
    "num_words = len(word2index)\n",
    "print(f\"Found {num_words} unique tokens\")\n",
    "\n",
    "data = sequence.pad_sequences(sequences, maxlen=MAX_WORDS_IN_SEQ, padding='post', truncating='post')\n",
    "x_train, x_test, y_train, y_test = train_test_split(data, labels, test_size=0.3)"
   ]
  },
  {
   "cell_type": "code",
   "execution_count": 7,
   "metadata": {},
   "outputs": [],
   "source": [
    "#CREATE MODEL\n",
    "def CNN():\n",
    "    model = Sequential()\n",
    "    # It requires that the input data be integer encoded, so that each word is represented by a unique integer. \n",
    "    # This data preparation step can be performed using the Tokenizer API also provided with Keras.\n",
    "    # The Embedding layer is initialized with random weights and will learn an embedding for all of \n",
    "    # the words in the training dataset.\n",
    "    model.add(Embedding(input_dim=num_words+1, output_dim=EMBED_DIM, input_length=MAX_WORDS_IN_SEQ))\n",
    "    model.add(Conv1D(128, 3, activation='relu'))\n",
    "    model.add(MaxPool1D(3))\n",
    "    model.add(Dropout(0.2))\n",
    "    model.add(Conv1D(128, 3, activation='relu'))\n",
    "    model.add(GlobalMaxPooling1D())\n",
    "    model.add(Dropout(0.2))\n",
    "    \n",
    "    model.add(Dense(64, activation='relu'))\n",
    "    model.add(Dropout(0.2))\n",
    "    model.add(Dense(32, activation='relu'))\n",
    "    model.add(Dropout(0.5))\n",
    "    model.add(Dense(1, activation='sigmoid'))\n",
    "    model.compile(optimizer='adam', loss='binary_crossentropy', metrics=['accuracy'])\n",
    "    return model"
   ]
  },
  {
   "cell_type": "code",
   "execution_count": 8,
   "metadata": {},
   "outputs": [],
   "source": [
    "model = CNN()\n"
   ]
  },
  {
   "cell_type": "code",
   "execution_count": 9,
   "metadata": {},
   "outputs": [
    {
     "name": "stdout",
     "output_type": "stream",
     "text": [
      "_________________________________________________________________\n",
      "Layer (type)                 Output Shape              Param #   \n",
      "=================================================================\n",
      "embedding_1 (Embedding)      (None, 1000, 100)         892100    \n",
      "_________________________________________________________________\n",
      "conv1d_1 (Conv1D)            (None, 998, 128)          38528     \n",
      "_________________________________________________________________\n",
      "max_pooling1d_1 (MaxPooling1 (None, 332, 128)          0         \n",
      "_________________________________________________________________\n",
      "dropout_1 (Dropout)          (None, 332, 128)          0         \n",
      "_________________________________________________________________\n",
      "conv1d_2 (Conv1D)            (None, 330, 128)          49280     \n",
      "_________________________________________________________________\n",
      "global_max_pooling1d_1 (Glob (None, 128)               0         \n",
      "_________________________________________________________________\n",
      "dropout_2 (Dropout)          (None, 128)               0         \n",
      "_________________________________________________________________\n",
      "dense_1 (Dense)              (None, 64)                8256      \n",
      "_________________________________________________________________\n",
      "dropout_3 (Dropout)          (None, 64)                0         \n",
      "_________________________________________________________________\n",
      "dense_2 (Dense)              (None, 32)                2080      \n",
      "_________________________________________________________________\n",
      "dropout_4 (Dropout)          (None, 32)                0         \n",
      "_________________________________________________________________\n",
      "dense_3 (Dense)              (None, 1)                 33        \n",
      "=================================================================\n",
      "Total params: 990,277\n",
      "Trainable params: 990,277\n",
      "Non-trainable params: 0\n",
      "_________________________________________________________________\n"
     ]
    }
   ],
   "source": [
    "model.summary()"
   ]
  },
  {
   "cell_type": "code",
   "execution_count": 10,
   "metadata": {},
   "outputs": [
    {
     "name": "stdout",
     "output_type": "stream",
     "text": [
      "Train on 3120 samples, validate on 780 samples\n",
      "Epoch 1/10\n",
      "3120/3120 [==============================] - 161s 52ms/step - loss: 0.4577 - acc: 0.8561 - val_loss: 0.4134 - val_acc: 0.8628\n",
      "Epoch 2/10\n",
      "3120/3120 [==============================] - 164s 53ms/step - loss: 0.1806 - acc: 0.9353 - val_loss: 0.0508 - val_acc: 0.9795\n",
      "Epoch 3/10\n",
      "3120/3120 [==============================] - 165s 53ms/step - loss: 0.0349 - acc: 0.9917 - val_loss: 0.0345 - val_acc: 0.9910\n",
      "Epoch 4/10\n",
      "3120/3120 [==============================] - 165s 53ms/step - loss: 0.0200 - acc: 0.9965 - val_loss: 0.0583 - val_acc: 0.9795\n",
      "Epoch 5/10\n",
      "3120/3120 [==============================] - 170s 54ms/step - loss: 0.0070 - acc: 0.9990 - val_loss: 0.0447 - val_acc: 0.9897\n",
      "Epoch 6/10\n",
      "3120/3120 [==============================] - 164s 53ms/step - loss: 0.0070 - acc: 0.9994 - val_loss: 0.0648 - val_acc: 0.9846\n",
      "Epoch 7/10\n",
      "3120/3120 [==============================] - 172s 55ms/step - loss: 0.0093 - acc: 0.9987 - val_loss: 0.0369 - val_acc: 0.9949\n",
      "Epoch 8/10\n",
      "3120/3120 [==============================] - 168s 54ms/step - loss: 0.0093 - acc: 0.9981 - val_loss: 0.0367 - val_acc: 0.9949\n",
      "Epoch 9/10\n",
      "3120/3120 [==============================] - 170s 54ms/step - loss: 0.0060 - acc: 0.9997 - val_loss: 0.0503 - val_acc: 0.9936\n",
      "Epoch 10/10\n",
      "3120/3120 [==============================] - 164s 52ms/step - loss: 0.0043 - acc: 0.9994 - val_loss: 0.1349 - val_acc: 0.9718\n"
     ]
    }
   ],
   "source": [
    "history = model.fit(x_train,\n",
    "                    y_train,\n",
    "                    epochs=EPOCHS,\n",
    "                    batch_size=32,\n",
    "                    validation_split=0.2,\n",
    "                   verbose=1)"
   ]
  },
  {
   "cell_type": "code",
   "execution_count": 11,
   "metadata": {},
   "outputs": [],
   "source": [
    "#model.save_weights('models/cnn_text_10_epochs.h5') # save model"
   ]
  },
  {
   "cell_type": "code",
   "execution_count": 67,
   "metadata": {},
   "outputs": [],
   "source": [
    "acc = history.history['acc']\n",
    "val_acc = history.history['val_acc']\n",
    "loss = history.history['loss']\n",
    "val_loss = history.history['val_loss']\n",
    "epochs = range(len(acc))"
   ]
  },
  {
   "cell_type": "code",
   "execution_count": 68,
   "metadata": {},
   "outputs": [
    {
     "data": {
      "text/plain": [
       "<Figure size 432x288 with 0 Axes>"
      ]
     },
     "execution_count": 68,
     "metadata": {},
     "output_type": "execute_result"
    },
    {
     "data": {
      "image/png": "[encoded data removed]",
      "text/plain": [
       "<Figure size 432x288 with 1 Axes>"
      ]
     },
     "metadata": {
      "needs_background": "light"
     },
     "output_type": "display_data"
    },
    {
     "data": {
      "text/plain": [
       "<Figure size 432x288 with 0 Axes>"
      ]
     },
     "metadata": {},
     "output_type": "display_data"
    }
   ],
   "source": [
    "plt.plot(epochs, acc, 'r', label='Training acc')\n",
    "plt.plot(epochs, val_acc, 'b', label='Validation acc')\n",
    "plt.title('Training and validation accuracy')\n",
    "plt.ylabel('accuracy') \n",
    "plt.xlabel('epoch')\n",
    "plt.legend()\n",
    "plt.figure()"
   ]
  },
  {
   "cell_type": "code",
   "execution_count": 69,
   "metadata": {},
   "outputs": [
    {
     "data": {
      "image/png": "[encoded data removed]",
      "text/plain": [
       "<Figure size 432x288 with 1 Axes>"
      ]
     },
     "metadata": {
      "needs_background": "light"
     },
     "output_type": "display_data"
    }
   ],
   "source": [
    "plt.plot(epochs, loss, 'r', label='Training loss')\n",
    "plt.plot(epochs, val_loss, 'b', label='Validation loss')\n",
    "plt.title('Training and validation loss')\n",
    "plt.ylabel('loss') \n",
    "plt.xlabel('epoch')\n",
    "plt.legend()\n",
    "plt.show()"
   ]
  },
  {
   "cell_type": "code",
   "execution_count": 70,
   "metadata": {},
   "outputs": [
    {
     "name": "stdout",
     "output_type": "stream",
     "text": [
      "[[1.]]\n",
      "spam\n"
     ]
    }
   ],
   "source": [
    "new_message = ['Free tickets to any concert - call us for more information.']\n",
    "sequences = tokenizer.texts_to_sequences(new_message)\n",
    "padded = sequence.pad_sequences(sequences, maxlen=1000)\n",
    "pred = model.predict(padded)\n",
    "print(pred)\n",
    "\n",
    "print('spam' if pred[0][0] > 0.3 else 'non-spam')"
   ]
  },
  {
   "cell_type": "code",
   "execution_count": 72,
   "metadata": {},
   "outputs": [
    {
     "name": "stdout",
     "output_type": "stream",
     "text": [
      "[[0.24509506]]\n",
      "non-spam\n"
     ]
    }
   ],
   "source": [
    "new_message = ['Howdy brother!' ]\n",
    "sequences = tokenizer.texts_to_sequences(new_message)\n",
    "padded = sequence.pad_sequences(sequences, maxlen=1000)\n",
    "pred = model.predict(padded)\n",
    "print(pred)\n",
    "\n",
    "print('spam' if pred[0][0] > 0.3 else 'non-spam')"
   ]
  }
 ],
 "metadata": {
  "kernelspec": {
   "display_name": "Python 3",
   "language": "python",
   "name": "python3"
  },
  "language_info": {
   "codemirror_mode": {
    "name": "ipython",
    "version": 3
   },
   "file_extension": ".py",
   "mimetype": "text/x-python",
   "name": "python",
   "nbconvert_exporter": "python",
   "pygments_lexer": "ipython3",
   "version": "3.6.6"
  }
 },
 "nbformat": 4,
 "nbformat_minor": 2
}
